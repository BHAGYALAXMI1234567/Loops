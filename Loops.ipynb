{
 "cells": [
  {
   "cell_type": "code",
   "execution_count": 1,
   "id": "ffd575ff-d338-4e49-8b67-cb45df5e7960",
   "metadata": {},
   "outputs": [
    {
     "name": "stdout",
     "output_type": "stream",
     "text": [
      "1\n",
      "2\n",
      "3\n",
      "4\n",
      "5\n"
     ]
    }
   ],
   "source": [
    "#To print numbers from 1 to 5 using a while loop\n",
    "number=1\n",
    "while number<6:\n",
    "    print(number)\n",
    "    number+=1"
   ]
  },
  {
   "cell_type": "code",
   "execution_count": 2,
   "id": "899d5000-cc5d-4291-bd79-9b06a444cb2f",
   "metadata": {},
   "outputs": [
    {
     "name": "stdout",
     "output_type": "stream",
     "text": [
      "The sum of numbers from 1 to 10 using a while loop is 55\n"
     ]
    }
   ],
   "source": [
    "#To calculate the sum of numbers from 1 to 10 using a while loop\n",
    "number=1\n",
    "sum=0\n",
    "while number<11:\n",
    "    sum=sum+number\n",
    "    number+=1\n",
    "    continue\n",
    "print('The sum of numbers from 1 to 10 using a while loop is',sum)"
   ]
  },
  {
   "cell_type": "code",
   "execution_count": 3,
   "id": "4172dd03-e753-4fad-a49f-7ee14a260bd0",
   "metadata": {},
   "outputs": [
    {
     "name": "stdin",
     "output_type": "stream",
     "text": [
      "Enter a number 5\n"
     ]
    },
    {
     "name": "stdout",
     "output_type": "stream",
     "text": [
      "Given number is 5\n",
      "The factorial of a number = 5  using a for loop is 120\n"
     ]
    }
   ],
   "source": [
    "#To calculate the factorial of a number using a for loop\n",
    "n=input('Enter a number')\n",
    "factorial=1\n",
    "n=int(n)\n",
    "print('Given number is',n)\n",
    "if n < 0:\n",
    "   print(\"Sorry, factorial does not exist for negative numbers\")\n",
    "elif n == 0:\n",
    "   print(\"The factorial of 0 is 1\")\n",
    "else:\n",
    "   for i in range(1,n + 1):\n",
    "       factorial = factorial*i\n",
    "print('The factorial of a number =',n,' using a for loop is',factorial)"
   ]
  },
  {
   "cell_type": "code",
   "execution_count": 4,
   "id": "d9f8ca47-61f9-4bc3-ab10-492e00718f66",
   "metadata": {},
   "outputs": [
    {
     "name": "stdin",
     "output_type": "stream",
     "text": [
      "Enter a string I am happy\n"
     ]
    },
    {
     "name": "stdout",
     "output_type": "stream",
     "text": [
      "The number of vowels in the string  I am happy  is  3\n"
     ]
    }
   ],
   "source": [
    "#To count the number of vowels in a string using a for loop\n",
    "n=input('Enter a string')\n",
    "vowels=['a','e','i','o','u',\"A\",'E','I','O','U']\n",
    "count=0\n",
    "for alphabet in n:\n",
    "    if alphabet in vowels:\n",
    "        count+=1\n",
    "print('The number of vowels in the string ',n,' is ',count)"
   ]
  },
  {
   "cell_type": "code",
   "execution_count": 5,
   "id": "7008c8bf-7175-4088-849a-11e376bcff79",
   "metadata": {},
   "outputs": [
    {
     "name": "stdout",
     "output_type": "stream",
     "text": [
      "0 \n",
      "* 1 \n",
      "* * 2 \n",
      "* * * 3 \n",
      "* * * * 4 \n"
     ]
    }
   ],
   "source": [
    "#To print a pattern using nested loops\n",
    "\"\"\" \n",
    "Given pattern is\n",
    "0\n",
    "*1\n",
    "**2\n",
    "***3\n",
    "****4\n",
    "\"\"\"\n",
    "for i in range(5):\n",
    "    for j in range(i + 1):\n",
    "        if(j==i):\n",
    "         print(i, end=\" \")\n",
    "        else:\n",
    "         print(\"*\", end=\" \")\n",
    "    print()"
   ]
  },
  {
   "cell_type": "code",
   "execution_count": 6,
   "id": "b2936f6d-7f62-407b-bbdc-f6774491a328",
   "metadata": {},
   "outputs": [
    {
     "name": "stdout",
     "output_type": "stream",
     "text": [
      "Multiplication table of 0\n",
      "0  *  0  =  0\n",
      "0  *  1  =  0\n",
      "0  *  2  =  0\n",
      "0  *  3  =  0\n",
      "0  *  4  =  0\n",
      "0  *  5  =  0\n",
      "0  *  6  =  0\n",
      "0  *  7  =  0\n",
      "0  *  8  =  0\n",
      "0  *  9  =  0\n",
      "0  *  10  =  0\n",
      "\n",
      "Multiplication table of 1\n",
      "1  *  0  =  0\n",
      "1  *  1  =  1\n",
      "1  *  2  =  2\n",
      "1  *  3  =  3\n",
      "1  *  4  =  4\n",
      "1  *  5  =  5\n",
      "1  *  6  =  6\n",
      "1  *  7  =  7\n",
      "1  *  8  =  8\n",
      "1  *  9  =  9\n",
      "1  *  10  =  10\n",
      "\n",
      "Multiplication table of 2\n",
      "2  *  0  =  0\n",
      "2  *  1  =  2\n",
      "2  *  2  =  4\n",
      "2  *  3  =  6\n",
      "2  *  4  =  8\n",
      "2  *  5  =  10\n",
      "2  *  6  =  12\n",
      "2  *  7  =  14\n",
      "2  *  8  =  16\n",
      "2  *  9  =  18\n",
      "2  *  10  =  20\n",
      "\n",
      "Multiplication table of 3\n",
      "3  *  0  =  0\n",
      "3  *  1  =  3\n",
      "3  *  2  =  6\n",
      "3  *  3  =  9\n",
      "3  *  4  =  12\n",
      "3  *  5  =  15\n",
      "3  *  6  =  18\n",
      "3  *  7  =  21\n",
      "3  *  8  =  24\n",
      "3  *  9  =  27\n",
      "3  *  10  =  30\n",
      "\n",
      "Multiplication table of 4\n",
      "4  *  0  =  0\n",
      "4  *  1  =  4\n",
      "4  *  2  =  8\n",
      "4  *  3  =  12\n",
      "4  *  4  =  16\n",
      "4  *  5  =  20\n",
      "4  *  6  =  24\n",
      "4  *  7  =  28\n",
      "4  *  8  =  32\n",
      "4  *  9  =  36\n",
      "4  *  10  =  40\n",
      "\n",
      "Multiplication table of 5\n",
      "5  *  0  =  0\n",
      "5  *  1  =  5\n",
      "5  *  2  =  10\n",
      "5  *  3  =  15\n",
      "5  *  4  =  20\n",
      "5  *  5  =  25\n",
      "5  *  6  =  30\n",
      "5  *  7  =  35\n",
      "5  *  8  =  40\n",
      "5  *  9  =  45\n",
      "5  *  10  =  50\n",
      "\n",
      "Multiplication table of 6\n",
      "6  *  0  =  0\n",
      "6  *  1  =  6\n",
      "6  *  2  =  12\n",
      "6  *  3  =  18\n",
      "6  *  4  =  24\n",
      "6  *  5  =  30\n",
      "6  *  6  =  36\n",
      "6  *  7  =  42\n",
      "6  *  8  =  48\n",
      "6  *  9  =  54\n",
      "6  *  10  =  60\n",
      "\n",
      "Multiplication table of 7\n",
      "7  *  0  =  0\n",
      "7  *  1  =  7\n",
      "7  *  2  =  14\n",
      "7  *  3  =  21\n",
      "7  *  4  =  28\n",
      "7  *  5  =  35\n",
      "7  *  6  =  42\n",
      "7  *  7  =  49\n",
      "7  *  8  =  56\n",
      "7  *  9  =  63\n",
      "7  *  10  =  70\n",
      "\n",
      "Multiplication table of 8\n",
      "8  *  0  =  0\n",
      "8  *  1  =  8\n",
      "8  *  2  =  16\n",
      "8  *  3  =  24\n",
      "8  *  4  =  32\n",
      "8  *  5  =  40\n",
      "8  *  6  =  48\n",
      "8  *  7  =  56\n",
      "8  *  8  =  64\n",
      "8  *  9  =  72\n",
      "8  *  10  =  80\n",
      "\n",
      "Multiplication table of 9\n",
      "9  *  0  =  0\n",
      "9  *  1  =  9\n",
      "9  *  2  =  18\n",
      "9  *  3  =  27\n",
      "9  *  4  =  36\n",
      "9  *  5  =  45\n",
      "9  *  6  =  54\n",
      "9  *  7  =  63\n",
      "9  *  8  =  72\n",
      "9  *  9  =  81\n",
      "9  *  10  =  90\n",
      "\n",
      "Multiplication table of 10\n",
      "10  *  0  =  0\n",
      "10  *  1  =  10\n",
      "10  *  2  =  20\n",
      "10  *  3  =  30\n",
      "10  *  4  =  40\n",
      "10  *  5  =  50\n",
      "10  *  6  =  60\n",
      "10  *  7  =  70\n",
      "10  *  8  =  80\n",
      "10  *  9  =  90\n",
      "10  *  10  =  100\n",
      "\n"
     ]
    }
   ],
   "source": [
    "#To generate a multiplication table using nested loops\n",
    "for i in range(0, 11):\n",
    "    print('Multiplication table of',i)\n",
    "    for j in range(0, 11):\n",
    "        num = i * j\n",
    "        print(i,' * ',j, ' = ',num)\n",
    "    print()"
   ]
  }
 ],
 "metadata": {
  "kernelspec": {
   "display_name": "Python 3 (ipykernel)",
   "language": "python",
   "name": "python3"
  },
  "language_info": {
   "codemirror_mode": {
    "name": "ipython",
    "version": 3
   },
   "file_extension": ".py",
   "mimetype": "text/x-python",
   "name": "python",
   "nbconvert_exporter": "python",
   "pygments_lexer": "ipython3",
   "version": "3.10.8"
  }
 },
 "nbformat": 4,
 "nbformat_minor": 5
}
